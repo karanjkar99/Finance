{
  "nbformat": 4,
  "nbformat_minor": 0,
  "metadata": {
    "kernelspec": {
      "display_name": "Python 3",
      "language": "python",
      "name": "python3"
    },
    "language_info": {
      "codemirror_mode": {
        "name": "ipython",
        "version": 3
      },
      "file_extension": ".py",
      "mimetype": "text/x-python",
      "name": "python",
      "nbconvert_exporter": "python",
      "pygments_lexer": "ipython3",
      "version": "3.7.6"
    },
    "colab": {
      "name": "Portfolio Opt (by 3 methods).ipynb",
      "provenance": [],
      "include_colab_link": true
    }
  },
  "cells": [
    {
      "cell_type": "markdown",
      "metadata": {
        "id": "view-in-github",
        "colab_type": "text"
      },
      "source": [
        "<a href=\"https://colab.research.google.com/github/karanjkar99/Finance/blob/master/Portfolio_Opt_(by_3_methods)_predetermined_sets.ipynb\" target=\"_parent\"><img src=\"https://colab.research.google.com/assets/colab-badge.svg\" alt=\"Open In Colab\"/></a>"
      ]
    },
    {
      "cell_type": "code",
      "metadata": {
        "id": "S4y33FxGIWBB",
        "colab_type": "code",
        "colab": {
          "base_uri": "https://localhost:8080/",
          "height": 70
        },
        "outputId": "298e5a27-4e2b-4366-d995-dbbf7bad5065"
      },
      "source": [
        "import numpy as np\n",
        "import pandas as pd\n",
        "import yfinance as yf\n",
        "from pandas_datareader import data as pdr"
      ],
      "execution_count": 8,
      "outputs": [
        {
          "output_type": "stream",
          "text": [
            "/usr/local/lib/python3.6/dist-packages/pandas_datareader/compat/__init__.py:7: FutureWarning: pandas.util.testing is deprecated. Use the functions in the public API at pandas.testing instead.\n",
            "  from pandas.util.testing import assert_frame_equal\n"
          ],
          "name": "stderr"
        }
      ]
    },
    {
      "cell_type": "code",
      "metadata": {
        "id": "gpzoJwIVRsqX",
        "colab_type": "code",
        "colab": {
          "base_uri": "https://localhost:8080/",
          "height": 353
        },
        "outputId": "43af3ea2-d2d5-489f-bcf6-9077f39c86a3"
      },
      "source": [
        "pip install yfinance"
      ],
      "execution_count": 7,
      "outputs": [
        {
          "output_type": "stream",
          "text": [
            "Collecting yfinance\n",
            "  Downloading https://files.pythonhosted.org/packages/c2/31/8b374a12b90def92a4e27d0fc595fc43635f395984e36a075244d98bd265/yfinance-0.1.54.tar.gz\n",
            "Requirement already satisfied: pandas>=0.24 in /usr/local/lib/python3.6/dist-packages (from yfinance) (1.0.5)\n",
            "Requirement already satisfied: numpy>=1.15 in /usr/local/lib/python3.6/dist-packages (from yfinance) (1.18.5)\n",
            "Requirement already satisfied: requests>=2.20 in /usr/local/lib/python3.6/dist-packages (from yfinance) (2.23.0)\n",
            "Requirement already satisfied: multitasking>=0.0.7 in /usr/local/lib/python3.6/dist-packages (from yfinance) (0.0.9)\n",
            "Requirement already satisfied: python-dateutil>=2.6.1 in /usr/local/lib/python3.6/dist-packages (from pandas>=0.24->yfinance) (2.8.1)\n",
            "Requirement already satisfied: pytz>=2017.2 in /usr/local/lib/python3.6/dist-packages (from pandas>=0.24->yfinance) (2018.9)\n",
            "Requirement already satisfied: chardet<4,>=3.0.2 in /usr/local/lib/python3.6/dist-packages (from requests>=2.20->yfinance) (3.0.4)\n",
            "Requirement already satisfied: urllib3!=1.25.0,!=1.25.1,<1.26,>=1.21.1 in /usr/local/lib/python3.6/dist-packages (from requests>=2.20->yfinance) (1.24.3)\n",
            "Requirement already satisfied: certifi>=2017.4.17 in /usr/local/lib/python3.6/dist-packages (from requests>=2.20->yfinance) (2020.6.20)\n",
            "Requirement already satisfied: idna<3,>=2.5 in /usr/local/lib/python3.6/dist-packages (from requests>=2.20->yfinance) (2.10)\n",
            "Requirement already satisfied: six>=1.5 in /usr/local/lib/python3.6/dist-packages (from python-dateutil>=2.6.1->pandas>=0.24->yfinance) (1.15.0)\n",
            "Building wheels for collected packages: yfinance\n",
            "  Building wheel for yfinance (setup.py) ... \u001b[?25l\u001b[?25hdone\n",
            "  Created wheel for yfinance: filename=yfinance-0.1.54-py2.py3-none-any.whl size=22409 sha256=3a5c32d289249cbdaa18d6cd1649e836f52a5f9b2eda6b31fcc88c5e08ca0c9f\n",
            "  Stored in directory: /root/.cache/pip/wheels/f9/e3/5b/ec24dd2984b12d61e0abf26289746c2436a0e7844f26f2515c\n",
            "Successfully built yfinance\n",
            "Installing collected packages: yfinance\n",
            "Successfully installed yfinance-0.1.54\n"
          ],
          "name": "stdout"
        }
      ]
    },
    {
      "cell_type": "code",
      "metadata": {
        "id": "aJ1qjmzXIWBS",
        "colab_type": "code",
        "colab": {}
      },
      "source": [
        "yf.pdr_override()"
      ],
      "execution_count": 9,
      "outputs": []
    },
    {
      "cell_type": "code",
      "metadata": {
        "id": "EnrHjKnfIWBZ",
        "colab_type": "code",
        "colab": {}
      },
      "source": [
        "syms = ['TIGLOB.BO','UFO.NS','ALEMBICLTD.NS','GANESHBE.BO','ESTER.NS','INTENTECH.BO','UNIDT.BO','SEAMECLTD.BO','CHAMANSEQ.BO']"
      ],
      "execution_count": 34,
      "outputs": []
    },
    {
      "cell_type": "code",
      "metadata": {
        "id": "PDm-08wqSUDG",
        "colab_type": "code",
        "colab": {
          "base_uri": "https://localhost:8080/",
          "height": 34
        },
        "outputId": "bbc4cb21-3d28-473c-810f-f142ee4fe315"
      },
      "source": [
        "print (syms)"
      ],
      "execution_count": 35,
      "outputs": [
        {
          "output_type": "stream",
          "text": [
            "['TIGLOB.BO', 'UFO.NS', 'ALEMBICLTD.NS', 'GANESHBE.BO', 'ESTER.NS', 'INTENTECH.BO', 'UNIDT.BO', 'SEAMECLTD.BO', 'CHAMANSEQ.BO']\n"
          ],
          "name": "stdout"
        }
      ]
    },
    {
      "cell_type": "code",
      "metadata": {
        "id": "MDTiJvivIWBh",
        "colab_type": "code",
        "colab": {
          "base_uri": "https://localhost:8080/",
          "height": 242
        },
        "outputId": "a10d10ee-1c3f-45e5-c36f-61250c604cae"
      },
      "source": [
        "start = \"2016-04-01\"\n",
        "end = str(int(start[:4]) + 3) + start[4:]\n",
        "stock_data = pdr.get_data_yahoo(syms[1:], start = start, end = end)['Adj Close']\n",
        "stock_data.head()"
      ],
      "execution_count": 36,
      "outputs": [
        {
          "output_type": "stream",
          "text": [
            "[*********************100%***********************]  8 of 8 completed\n"
          ],
          "name": "stdout"
        },
        {
          "output_type": "execute_result",
          "data": {
            "text/html": [
              "<div>\n",
              "<style scoped>\n",
              "    .dataframe tbody tr th:only-of-type {\n",
              "        vertical-align: middle;\n",
              "    }\n",
              "\n",
              "    .dataframe tbody tr th {\n",
              "        vertical-align: top;\n",
              "    }\n",
              "\n",
              "    .dataframe thead th {\n",
              "        text-align: right;\n",
              "    }\n",
              "</style>\n",
              "<table border=\"1\" class=\"dataframe\">\n",
              "  <thead>\n",
              "    <tr style=\"text-align: right;\">\n",
              "      <th></th>\n",
              "      <th>ALEMBICLTD.NS</th>\n",
              "      <th>CHAMANSEQ.BO</th>\n",
              "      <th>ESTER.NS</th>\n",
              "      <th>GANESHBE.BO</th>\n",
              "      <th>INTENTECH.BO</th>\n",
              "      <th>SEAMECLTD.BO</th>\n",
              "      <th>UFO.NS</th>\n",
              "      <th>UNIDT.BO</th>\n",
              "    </tr>\n",
              "    <tr>\n",
              "      <th>Date</th>\n",
              "      <th></th>\n",
              "      <th></th>\n",
              "      <th></th>\n",
              "      <th></th>\n",
              "      <th></th>\n",
              "      <th></th>\n",
              "      <th></th>\n",
              "      <th></th>\n",
              "    </tr>\n",
              "  </thead>\n",
              "  <tbody>\n",
              "    <tr>\n",
              "      <th>2016-04-01</th>\n",
              "      <td>34.972027</td>\n",
              "      <td>53.022850</td>\n",
              "      <td>56.922913</td>\n",
              "      <td>20.600000</td>\n",
              "      <td>39.733334</td>\n",
              "      <td>69.800003</td>\n",
              "      <td>328.910583</td>\n",
              "      <td>23.107033</td>\n",
              "    </tr>\n",
              "    <tr>\n",
              "      <th>2016-04-04</th>\n",
              "      <td>35.751347</td>\n",
              "      <td>52.038460</td>\n",
              "      <td>56.824432</td>\n",
              "      <td>22.250000</td>\n",
              "      <td>39.733334</td>\n",
              "      <td>71.400002</td>\n",
              "      <td>359.472015</td>\n",
              "      <td>23.083946</td>\n",
              "    </tr>\n",
              "    <tr>\n",
              "      <th>2016-04-05</th>\n",
              "      <td>35.118145</td>\n",
              "      <td>52.038460</td>\n",
              "      <td>54.116161</td>\n",
              "      <td>21.600000</td>\n",
              "      <td>39.335999</td>\n",
              "      <td>71.099998</td>\n",
              "      <td>339.622070</td>\n",
              "      <td>23.083946</td>\n",
              "    </tr>\n",
              "    <tr>\n",
              "      <th>2016-04-06</th>\n",
              "      <td>34.923317</td>\n",
              "      <td>52.396473</td>\n",
              "      <td>55.494915</td>\n",
              "      <td>21.450001</td>\n",
              "      <td>38.541332</td>\n",
              "      <td>72.500000</td>\n",
              "      <td>346.700592</td>\n",
              "      <td>23.083946</td>\n",
              "    </tr>\n",
              "    <tr>\n",
              "      <th>2016-04-07</th>\n",
              "      <td>34.728489</td>\n",
              "      <td>51.635742</td>\n",
              "      <td>54.116161</td>\n",
              "      <td>21.100000</td>\n",
              "      <td>38.740002</td>\n",
              "      <td>72.199997</td>\n",
              "      <td>353.591919</td>\n",
              "      <td>23.083946</td>\n",
              "    </tr>\n",
              "  </tbody>\n",
              "</table>\n",
              "</div>"
            ],
            "text/plain": [
              "            ALEMBICLTD.NS  CHAMANSEQ.BO  ...      UFO.NS   UNIDT.BO\n",
              "Date                                     ...                       \n",
              "2016-04-01      34.972027     53.022850  ...  328.910583  23.107033\n",
              "2016-04-04      35.751347     52.038460  ...  359.472015  23.083946\n",
              "2016-04-05      35.118145     52.038460  ...  339.622070  23.083946\n",
              "2016-04-06      34.923317     52.396473  ...  346.700592  23.083946\n",
              "2016-04-07      34.728489     51.635742  ...  353.591919  23.083946\n",
              "\n",
              "[5 rows x 8 columns]"
            ]
          },
          "metadata": {
            "tags": []
          },
          "execution_count": 36
        }
      ]
    },
    {
      "cell_type": "code",
      "metadata": {
        "id": "9UGiYDPaIWBl",
        "colab_type": "code",
        "colab": {
          "base_uri": "https://localhost:8080/",
          "height": 225
        },
        "outputId": "2ad89938-2cfc-4220-e93c-677aeddd453d"
      },
      "source": [
        "returns = stock_data.pct_change()\n",
        "returns.head()"
      ],
      "execution_count": 37,
      "outputs": [
        {
          "output_type": "execute_result",
          "data": {
            "text/html": [
              "<div>\n",
              "<style scoped>\n",
              "    .dataframe tbody tr th:only-of-type {\n",
              "        vertical-align: middle;\n",
              "    }\n",
              "\n",
              "    .dataframe tbody tr th {\n",
              "        vertical-align: top;\n",
              "    }\n",
              "\n",
              "    .dataframe thead th {\n",
              "        text-align: right;\n",
              "    }\n",
              "</style>\n",
              "<table border=\"1\" class=\"dataframe\">\n",
              "  <thead>\n",
              "    <tr style=\"text-align: right;\">\n",
              "      <th></th>\n",
              "      <th>ALEMBICLTD.NS</th>\n",
              "      <th>CHAMANSEQ.BO</th>\n",
              "      <th>ESTER.NS</th>\n",
              "      <th>GANESHBE.BO</th>\n",
              "      <th>INTENTECH.BO</th>\n",
              "      <th>SEAMECLTD.BO</th>\n",
              "      <th>UFO.NS</th>\n",
              "      <th>UNIDT.BO</th>\n",
              "    </tr>\n",
              "    <tr>\n",
              "      <th>Date</th>\n",
              "      <th></th>\n",
              "      <th></th>\n",
              "      <th></th>\n",
              "      <th></th>\n",
              "      <th></th>\n",
              "      <th></th>\n",
              "      <th></th>\n",
              "      <th></th>\n",
              "    </tr>\n",
              "  </thead>\n",
              "  <tbody>\n",
              "    <tr>\n",
              "      <th>2016-04-01</th>\n",
              "      <td>NaN</td>\n",
              "      <td>NaN</td>\n",
              "      <td>NaN</td>\n",
              "      <td>NaN</td>\n",
              "      <td>NaN</td>\n",
              "      <td>NaN</td>\n",
              "      <td>NaN</td>\n",
              "      <td>NaN</td>\n",
              "    </tr>\n",
              "    <tr>\n",
              "      <th>2016-04-04</th>\n",
              "      <td>0.022284</td>\n",
              "      <td>-0.018565</td>\n",
              "      <td>-0.001730</td>\n",
              "      <td>0.080097</td>\n",
              "      <td>0.000000</td>\n",
              "      <td>0.022923</td>\n",
              "      <td>0.092917</td>\n",
              "      <td>-0.000999</td>\n",
              "    </tr>\n",
              "    <tr>\n",
              "      <th>2016-04-05</th>\n",
              "      <td>-0.017711</td>\n",
              "      <td>0.000000</td>\n",
              "      <td>-0.047660</td>\n",
              "      <td>-0.029213</td>\n",
              "      <td>-0.010000</td>\n",
              "      <td>-0.004202</td>\n",
              "      <td>-0.055220</td>\n",
              "      <td>0.000000</td>\n",
              "    </tr>\n",
              "    <tr>\n",
              "      <th>2016-04-06</th>\n",
              "      <td>-0.005548</td>\n",
              "      <td>0.006880</td>\n",
              "      <td>0.025478</td>\n",
              "      <td>-0.006944</td>\n",
              "      <td>-0.020202</td>\n",
              "      <td>0.019691</td>\n",
              "      <td>0.020842</td>\n",
              "      <td>0.000000</td>\n",
              "    </tr>\n",
              "    <tr>\n",
              "      <th>2016-04-07</th>\n",
              "      <td>-0.005579</td>\n",
              "      <td>-0.014519</td>\n",
              "      <td>-0.024845</td>\n",
              "      <td>-0.016317</td>\n",
              "      <td>0.005155</td>\n",
              "      <td>-0.004138</td>\n",
              "      <td>0.019877</td>\n",
              "      <td>0.000000</td>\n",
              "    </tr>\n",
              "  </tbody>\n",
              "</table>\n",
              "</div>"
            ],
            "text/plain": [
              "            ALEMBICLTD.NS  CHAMANSEQ.BO  ...    UFO.NS  UNIDT.BO\n",
              "Date                                     ...                    \n",
              "2016-04-01            NaN           NaN  ...       NaN       NaN\n",
              "2016-04-04       0.022284     -0.018565  ...  0.092917 -0.000999\n",
              "2016-04-05      -0.017711      0.000000  ... -0.055220  0.000000\n",
              "2016-04-06      -0.005548      0.006880  ...  0.020842  0.000000\n",
              "2016-04-07      -0.005579     -0.014519  ...  0.019877  0.000000\n",
              "\n",
              "[5 rows x 8 columns]"
            ]
          },
          "metadata": {
            "tags": []
          },
          "execution_count": 37
        }
      ]
    },
    {
      "cell_type": "code",
      "metadata": {
        "id": "xkZjZ2LoIWBq",
        "colab_type": "code",
        "colab": {}
      },
      "source": [
        "mean_daily_returns = np.array(returns.mean()).reshape(-1, 1)\n",
        "cov = returns.cov()"
      ],
      "execution_count": 38,
      "outputs": []
    },
    {
      "cell_type": "code",
      "metadata": {
        "id": "a8b2Gr7ZIWBt",
        "colab_type": "code",
        "colab": {
          "base_uri": "https://localhost:8080/",
          "height": 151
        },
        "outputId": "ff39549f-779c-4fe5-9d8c-3ce986695d00"
      },
      "source": [
        "mean_daily_returns"
      ],
      "execution_count": 39,
      "outputs": [
        {
          "output_type": "execute_result",
          "data": {
            "text/plain": [
              "array([[ 0.00053616],\n",
              "       [ 0.00113528],\n",
              "       [-0.00012422],\n",
              "       [ 0.00173295],\n",
              "       [ 0.00072609],\n",
              "       [ 0.00285538],\n",
              "       [-0.00047637],\n",
              "       [ 0.00333254]])"
            ]
          },
          "metadata": {
            "tags": []
          },
          "execution_count": 39
        }
      ]
    },
    {
      "cell_type": "code",
      "metadata": {
        "id": "0jZLuDVxIWBy",
        "colab_type": "code",
        "colab": {
          "base_uri": "https://localhost:8080/",
          "height": 284
        },
        "outputId": "5a6160c8-ca4f-4c94-f785-8ff9c3b5759a"
      },
      "source": [
        "cov"
      ],
      "execution_count": 40,
      "outputs": [
        {
          "output_type": "execute_result",
          "data": {
            "text/html": [
              "<div>\n",
              "<style scoped>\n",
              "    .dataframe tbody tr th:only-of-type {\n",
              "        vertical-align: middle;\n",
              "    }\n",
              "\n",
              "    .dataframe tbody tr th {\n",
              "        vertical-align: top;\n",
              "    }\n",
              "\n",
              "    .dataframe thead th {\n",
              "        text-align: right;\n",
              "    }\n",
              "</style>\n",
              "<table border=\"1\" class=\"dataframe\">\n",
              "  <thead>\n",
              "    <tr style=\"text-align: right;\">\n",
              "      <th></th>\n",
              "      <th>ALEMBICLTD.NS</th>\n",
              "      <th>CHAMANSEQ.BO</th>\n",
              "      <th>ESTER.NS</th>\n",
              "      <th>GANESHBE.BO</th>\n",
              "      <th>INTENTECH.BO</th>\n",
              "      <th>SEAMECLTD.BO</th>\n",
              "      <th>UFO.NS</th>\n",
              "      <th>UNIDT.BO</th>\n",
              "    </tr>\n",
              "  </thead>\n",
              "  <tbody>\n",
              "    <tr>\n",
              "      <th>ALEMBICLTD.NS</th>\n",
              "      <td>0.000655</td>\n",
              "      <td>0.000168</td>\n",
              "      <td>0.000223</td>\n",
              "      <td>0.000181</td>\n",
              "      <td>0.000149</td>\n",
              "      <td>0.000109</td>\n",
              "      <td>0.000148</td>\n",
              "      <td>0.000161</td>\n",
              "    </tr>\n",
              "    <tr>\n",
              "      <th>CHAMANSEQ.BO</th>\n",
              "      <td>0.000168</td>\n",
              "      <td>0.001025</td>\n",
              "      <td>0.000181</td>\n",
              "      <td>0.000158</td>\n",
              "      <td>0.000114</td>\n",
              "      <td>0.000140</td>\n",
              "      <td>0.000147</td>\n",
              "      <td>0.000144</td>\n",
              "    </tr>\n",
              "    <tr>\n",
              "      <th>ESTER.NS</th>\n",
              "      <td>0.000223</td>\n",
              "      <td>0.000181</td>\n",
              "      <td>0.001163</td>\n",
              "      <td>0.000206</td>\n",
              "      <td>0.000240</td>\n",
              "      <td>0.000172</td>\n",
              "      <td>0.000152</td>\n",
              "      <td>0.000059</td>\n",
              "    </tr>\n",
              "    <tr>\n",
              "      <th>GANESHBE.BO</th>\n",
              "      <td>0.000181</td>\n",
              "      <td>0.000158</td>\n",
              "      <td>0.000206</td>\n",
              "      <td>0.001218</td>\n",
              "      <td>0.000172</td>\n",
              "      <td>0.000166</td>\n",
              "      <td>0.000174</td>\n",
              "      <td>0.000073</td>\n",
              "    </tr>\n",
              "    <tr>\n",
              "      <th>INTENTECH.BO</th>\n",
              "      <td>0.000149</td>\n",
              "      <td>0.000114</td>\n",
              "      <td>0.000240</td>\n",
              "      <td>0.000172</td>\n",
              "      <td>0.001642</td>\n",
              "      <td>0.000126</td>\n",
              "      <td>0.000091</td>\n",
              "      <td>0.000009</td>\n",
              "    </tr>\n",
              "    <tr>\n",
              "      <th>SEAMECLTD.BO</th>\n",
              "      <td>0.000109</td>\n",
              "      <td>0.000140</td>\n",
              "      <td>0.000172</td>\n",
              "      <td>0.000166</td>\n",
              "      <td>0.000126</td>\n",
              "      <td>0.000811</td>\n",
              "      <td>0.000111</td>\n",
              "      <td>0.000083</td>\n",
              "    </tr>\n",
              "    <tr>\n",
              "      <th>UFO.NS</th>\n",
              "      <td>0.000148</td>\n",
              "      <td>0.000147</td>\n",
              "      <td>0.000152</td>\n",
              "      <td>0.000174</td>\n",
              "      <td>0.000091</td>\n",
              "      <td>0.000111</td>\n",
              "      <td>0.000450</td>\n",
              "      <td>0.000099</td>\n",
              "    </tr>\n",
              "    <tr>\n",
              "      <th>UNIDT.BO</th>\n",
              "      <td>0.000161</td>\n",
              "      <td>0.000144</td>\n",
              "      <td>0.000059</td>\n",
              "      <td>0.000073</td>\n",
              "      <td>0.000009</td>\n",
              "      <td>0.000083</td>\n",
              "      <td>0.000099</td>\n",
              "      <td>0.002869</td>\n",
              "    </tr>\n",
              "  </tbody>\n",
              "</table>\n",
              "</div>"
            ],
            "text/plain": [
              "               ALEMBICLTD.NS  CHAMANSEQ.BO  ...    UFO.NS  UNIDT.BO\n",
              "ALEMBICLTD.NS       0.000655      0.000168  ...  0.000148  0.000161\n",
              "CHAMANSEQ.BO        0.000168      0.001025  ...  0.000147  0.000144\n",
              "ESTER.NS            0.000223      0.000181  ...  0.000152  0.000059\n",
              "GANESHBE.BO         0.000181      0.000158  ...  0.000174  0.000073\n",
              "INTENTECH.BO        0.000149      0.000114  ...  0.000091  0.000009\n",
              "SEAMECLTD.BO        0.000109      0.000140  ...  0.000111  0.000083\n",
              "UFO.NS              0.000148      0.000147  ...  0.000450  0.000099\n",
              "UNIDT.BO            0.000161      0.000144  ...  0.000099  0.002869\n",
              "\n",
              "[8 rows x 8 columns]"
            ]
          },
          "metadata": {
            "tags": []
          },
          "execution_count": 40
        }
      ]
    },
    {
      "cell_type": "markdown",
      "metadata": {
        "id": "jWMeMg0RIWB2",
        "colab_type": "text"
      },
      "source": [
        "### Max Sharpe Ratio"
      ]
    },
    {
      "cell_type": "code",
      "metadata": {
        "id": "VPU9nocgIWB2",
        "colab_type": "code",
        "colab": {
          "base_uri": "https://localhost:8080/",
          "height": 101
        },
        "outputId": "8424e7e4-1ccb-4cf9-b843-0dfe29a4424b"
      },
      "source": [
        "srs = []\n",
        "portfolio_stds = []\n",
        "rand_wts = []\n",
        "portfolio_returns = []\n",
        "risk_free_rate = 0\n",
        "for i in range(0, 20000):\n",
        "    random_weights = np.random.dirichlet(np.ones(8), size = 1).T\n",
        "    rand_wts.append(random_weights)\n",
        "    # portolfio return\n",
        "    portfolio_return = np.sum(mean_daily_returns * random_weights)*252\n",
        "    portfolio_returns.append(portfolio_return)\n",
        "    # portfolio volatility\n",
        "    portfolio_std = np.sqrt(np.dot(random_weights.T, np.dot(cov, random_weights))) * np.sqrt(252)\n",
        "    portfolio_stds.append(portfolio_std)\n",
        "    # sharpe ratio\n",
        "    sharpe_ratio = (portfolio_return - risk_free_rate) / portfolio_std\n",
        "    srs.append(sharpe_ratio)\n",
        "max_index = srs.index(max(srs))\n",
        "best_wts = rand_wts[max_index]\n",
        "max_sr = srs[max_index]\n",
        "portfolio_sd = portfolio_stds[max_index]\n",
        "max_return = portfolio_returns[max_index]\n",
        "print(f\"Max Sharpe Ratio: {max_sr}\")\n",
        "print(f\"Best Weights: {best_wts.T}\")\n",
        "print(f\"Portfolio Volatility: {portfolio_sd*100}%, Sum of weights: {np.sum(best_wts)}\")\n",
        "print(f\"Max Expected Annual Return: {max_return*100}%\")"
      ],
      "execution_count": 42,
      "outputs": [
        {
          "output_type": "stream",
          "text": [
            "Max Sharpe Ratio: [[1.82312509]]\n",
            "Best Weights: [[2.35294277e-02 3.74370698e-02 5.19288777e-02 3.52905249e-02\n",
            "  3.31602093e-02 6.39301845e-01 5.52308956e-04 1.78799737e-01]]\n",
            "Portfolio Volatility: [[35.31548193]]%, Sum of weights: 0.9999999999999998\n",
            "Max Expected Annual Return: 64.38454112600382%\n"
          ],
          "name": "stdout"
        }
      ]
    },
    {
      "cell_type": "markdown",
      "metadata": {
        "id": "B0cumK9XIWB5",
        "colab_type": "text"
      },
      "source": [
        "### Minimum Variance"
      ]
    },
    {
      "cell_type": "code",
      "metadata": {
        "id": "JVehePOuIWB6",
        "colab_type": "code",
        "colab": {
          "base_uri": "https://localhost:8080/",
          "height": 168
        },
        "outputId": "4128053e-33c3-43dc-c916-92a6c4c72196"
      },
      "source": [
        "returns.std()"
      ],
      "execution_count": 43,
      "outputs": [
        {
          "output_type": "execute_result",
          "data": {
            "text/plain": [
              "ALEMBICLTD.NS    0.025602\n",
              "CHAMANSEQ.BO     0.032008\n",
              "ESTER.NS         0.034109\n",
              "GANESHBE.BO      0.034903\n",
              "INTENTECH.BO     0.040517\n",
              "SEAMECLTD.BO     0.028478\n",
              "UFO.NS           0.021202\n",
              "UNIDT.BO         0.053567\n",
              "dtype: float64"
            ]
          },
          "metadata": {
            "tags": []
          },
          "execution_count": 43
        }
      ]
    },
    {
      "cell_type": "code",
      "metadata": {
        "id": "22emEyELIWB9",
        "colab_type": "code",
        "colab": {
          "base_uri": "https://localhost:8080/",
          "height": 34
        },
        "outputId": "ab05150c-d2f5-4186-ba03-d47f1986bb59"
      },
      "source": [
        "stds = np.array(returns.std()).reshape(-1, 1)\n",
        "stds.shape"
      ],
      "execution_count": 44,
      "outputs": [
        {
          "output_type": "execute_result",
          "data": {
            "text/plain": [
              "(8, 1)"
            ]
          },
          "metadata": {
            "tags": []
          },
          "execution_count": 44
        }
      ]
    },
    {
      "cell_type": "code",
      "metadata": {
        "id": "r_vYXiX_IWCB",
        "colab_type": "code",
        "colab": {
          "base_uri": "https://localhost:8080/",
          "height": 286
        },
        "outputId": "b246675d-a342-4f12-cd8c-b5bc32f39768"
      },
      "source": [
        "product_std = np.dot(stds, stds.T)\n",
        "product_std"
      ],
      "execution_count": 45,
      "outputs": [
        {
          "output_type": "execute_result",
          "data": {
            "text/plain": [
              "array([[0.00065544, 0.00081947, 0.00087326, 0.00089358, 0.00103731,\n",
              "        0.00072909, 0.0005428 , 0.00137139],\n",
              "       [0.00081947, 0.00102454, 0.00109178, 0.0011172 , 0.0012969 ,\n",
              "        0.00091155, 0.00067863, 0.00171458],\n",
              "       [0.00087326, 0.00109178, 0.00116345, 0.00119053, 0.00138202,\n",
              "        0.00097138, 0.00072318, 0.00182712],\n",
              "       [0.00089358, 0.0011172 , 0.00119053, 0.00121825, 0.0014142 ,\n",
              "        0.00099399, 0.00074001, 0.00186966],\n",
              "       [0.00103731, 0.0012969 , 0.00138202, 0.0014142 , 0.00164166,\n",
              "        0.00115387, 0.00085904, 0.00217038],\n",
              "       [0.00072909, 0.00091155, 0.00097138, 0.00099399, 0.00115387,\n",
              "        0.00081102, 0.00060379, 0.00152549],\n",
              "       [0.0005428 , 0.00067863, 0.00072318, 0.00074001, 0.00085904,\n",
              "        0.00060379, 0.00044951, 0.00113571],\n",
              "       [0.00137139, 0.00171458, 0.00182712, 0.00186966, 0.00217038,\n",
              "        0.00152549, 0.00113571, 0.00286939]])"
            ]
          },
          "metadata": {
            "tags": []
          },
          "execution_count": 45
        }
      ]
    },
    {
      "cell_type": "code",
      "metadata": {
        "id": "eblUeJDQIWCE",
        "colab_type": "code",
        "colab": {
          "base_uri": "https://localhost:8080/",
          "height": 286
        },
        "outputId": "f87e8499-f97a-4185-c007-f62c23a9c2ab"
      },
      "source": [
        "cov_mat = np.array(cov)\n",
        "cov_mat"
      ],
      "execution_count": 46,
      "outputs": [
        {
          "output_type": "execute_result",
          "data": {
            "text/plain": [
              "array([[6.55443748e-04, 1.68114450e-04, 2.23144269e-04, 1.80577633e-04,\n",
              "        1.48705520e-04, 1.08767645e-04, 1.47991739e-04, 1.61411325e-04],\n",
              "       [1.68114450e-04, 1.02453575e-03, 1.80698754e-04, 1.58085988e-04,\n",
              "        1.13561358e-04, 1.40397784e-04, 1.46516420e-04, 1.43837614e-04],\n",
              "       [2.23144269e-04, 1.80698754e-04, 1.16344816e-03, 2.05843857e-04,\n",
              "        2.39783144e-04, 1.71502920e-04, 1.52453613e-04, 5.92440908e-05],\n",
              "       [1.80577633e-04, 1.58085988e-04, 2.05843857e-04, 1.21824909e-03,\n",
              "        1.71575082e-04, 1.65703777e-04, 1.74037860e-04, 7.28554255e-05],\n",
              "       [1.48705520e-04, 1.13561358e-04, 2.39783144e-04, 1.71575082e-04,\n",
              "        1.64165860e-03, 1.25967677e-04, 9.13027885e-05, 8.78727600e-06],\n",
              "       [1.08767645e-04, 1.40397784e-04, 1.71502920e-04, 1.65703777e-04,\n",
              "        1.25967677e-04, 8.11019940e-04, 1.11498918e-04, 8.29499710e-05],\n",
              "       [1.47991739e-04, 1.46516420e-04, 1.52453613e-04, 1.74037860e-04,\n",
              "        9.13027885e-05, 1.11498918e-04, 4.49512888e-04, 9.94962213e-05],\n",
              "       [1.61411325e-04, 1.43837614e-04, 5.92440908e-05, 7.28554255e-05,\n",
              "        8.78727600e-06, 8.29499710e-05, 9.94962213e-05, 2.86938699e-03]])"
            ]
          },
          "metadata": {
            "tags": []
          },
          "execution_count": 46
        }
      ]
    },
    {
      "cell_type": "markdown",
      "metadata": {
        "id": "obQQOwcJIWCH",
        "colab_type": "text"
      },
      "source": [
        "#### Correlation Matrix"
      ]
    },
    {
      "cell_type": "code",
      "metadata": {
        "id": "rrorG5w1IWCH",
        "colab_type": "code",
        "colab": {
          "base_uri": "https://localhost:8080/",
          "height": 286
        },
        "outputId": "9ba539bc-16dd-4620-c999-b0423c81b464"
      },
      "source": [
        "corr = cov_mat / product_std\n",
        "corr"
      ],
      "execution_count": 47,
      "outputs": [
        {
          "output_type": "execute_result",
          "data": {
            "text/plain": [
              "array([[1.        , 0.20515106, 0.25553154, 0.20208226, 0.14335669,\n",
              "        0.14918194, 0.27264572, 0.11769872],\n",
              "       [0.20515106, 1.        , 0.16550765, 0.14150174, 0.087564  ,\n",
              "        0.15402135, 0.21589951, 0.0838908 ],\n",
              "       [0.25553154, 0.16550765, 1.        , 0.17290054, 0.17350169,\n",
              "        0.1765559 , 0.21081093, 0.03242477],\n",
              "       [0.20208226, 0.14150174, 0.17290054, 1.        , 0.12132345,\n",
              "        0.16670499, 0.23518229, 0.03896721],\n",
              "       [0.14335669, 0.087564  , 0.17350169, 0.12132345, 1.        ,\n",
              "        0.10916965, 0.10628489, 0.00404873],\n",
              "       [0.14918194, 0.15402135, 0.1765559 , 0.16670499, 0.10916965,\n",
              "        1.        , 0.18466467, 0.05437583],\n",
              "       [0.27264572, 0.21589951, 0.21081093, 0.23518229, 0.10628489,\n",
              "        0.18466467, 1.        , 0.08760743],\n",
              "       [0.11769872, 0.0838908 , 0.03242477, 0.03896721, 0.00404873,\n",
              "        0.05437583, 0.08760743, 1.        ]])"
            ]
          },
          "metadata": {
            "tags": []
          },
          "execution_count": 47
        }
      ]
    },
    {
      "cell_type": "code",
      "metadata": {
        "id": "S7v6LtuSIWCK",
        "colab_type": "code",
        "colab": {
          "base_uri": "https://localhost:8080/",
          "height": 168
        },
        "outputId": "fb2aa815-6d22-4c16-fa21-5a976540afcf"
      },
      "source": [
        "port_vars = []\n",
        "rand_wts = []\n",
        "for i in range(0, 10000):\n",
        "    random_weights = np.random.dirichlet(np.ones(8), size = 1).T\n",
        "    rand_wts.append(random_weights)\n",
        "    random_weighted_sd = stds * random_weights\n",
        "    portfolio_var = np.sqrt(np.sum(np.dot(random_weighted_sd.T, np.dot(corr, random_weighted_sd))))*100\n",
        "    port_vars.append(portfolio_var)\n",
        "min_index = port_vars.index(min(port_vars))\n",
        "best_wts = rand_wts[min_index]\n",
        "min_var = port_vars[min_index]\n",
        "portfolio_return = np.sum(mean_daily_returns * best_wts)*252\n",
        "print(f\"Best Weights: {best_wts}, Minimum Portfolio Variance: {min_var}, Sum of weights: {np.sum(best_wts)}\")\n",
        "print(f\"Return: {portfolio_return*100}%\")"
      ],
      "execution_count": 49,
      "outputs": [
        {
          "output_type": "stream",
          "text": [
            "Best Weights: [[0.13462501]\n",
            " [0.10217224]\n",
            " [0.08507919]\n",
            " [0.0646705 ]\n",
            " [0.09611   ]\n",
            " [0.13644466]\n",
            " [0.36521322]\n",
            " [0.01568518]], Minimum Portfolio Variance: 1.5534484681654375, Sum of weights: 1.0\n",
            "Return: 15.809375195341863%\n"
          ],
          "name": "stdout"
        }
      ]
    },
    {
      "cell_type": "markdown",
      "metadata": {
        "id": "4M3vGintIWCN",
        "colab_type": "text"
      },
      "source": [
        "### Monthly, Quarterly, Half-Yearly, Yearly"
      ]
    },
    {
      "cell_type": "code",
      "metadata": {
        "id": "3wB-4bXAIWCO",
        "colab_type": "code",
        "colab": {
          "base_uri": "https://localhost:8080/",
          "height": 84
        },
        "outputId": "caf87a56-6494-4655-f6c9-89ac207e2f34"
      },
      "source": [
        "e = stock_data\n",
        "monthly = 0\n",
        "quarterly = 0\n",
        "half_yearly = 0\n",
        "yearly = 0\n",
        "# monthly\n",
        "start = \"2016-04-01\"\n",
        "for i in range(36):\n",
        "    end = start[:5]\n",
        "    month = int(start[5:7]) + 1\n",
        "    if month <= 9:\n",
        "        end += '0' + str(month) + start[7:]\n",
        "    elif month > 12:\n",
        "        end = str(int(start[:4]) + 1) + '-01-01'\n",
        "    else:\n",
        "        end += str(month) + start[7:]\n",
        "    sliced_data = e.loc[(e.index >= start) & (e.index <= end)]\n",
        "    monthly += (sliced_data.iloc[-1]/sliced_data.iloc[0] - 1)\n",
        "    start = end\n",
        "# quarterly\n",
        "start = \"2016-04-01\"\n",
        "for i in range(12):\n",
        "    end = start[:5]\n",
        "    month = int(start[5:7]) + 3\n",
        "    if month <= 9:\n",
        "        end += '0' + str(month) + start[7:]\n",
        "    elif month == 13:\n",
        "        end = str(int(start[:4]) + 1) + '-01-01'\n",
        "    else:\n",
        "        end += str(month) + start[7:]\n",
        "    sliced_data = e.loc[(e.index >= start) & (e.index <= end)]\n",
        "    quarterly += (sliced_data.iloc[-1]/sliced_data.iloc[0] - 1)\n",
        "    start = end\n",
        "# half-yearly\n",
        "start = \"2016-04-01\"\n",
        "for i in range(6):\n",
        "    end = start[:5]\n",
        "    month = int(start[5:7]) + 6\n",
        "    if month == 16:\n",
        "        end = str(int(start[:4]) + 1) + '-04-01'\n",
        "    else:\n",
        "        end += str(month) + start[7:]\n",
        "    sliced_data = e.loc[(e.index >= start) & (e.index <= end)]\n",
        "    half_yearly += (sliced_data.iloc[-1]/sliced_data.iloc[0] - 1)\n",
        "    start = end\n",
        "# yearly\n",
        "start = \"2016-04-01\"\n",
        "for i in range(3):\n",
        "    end = str(int(start[:4]) + 1) + start[4:]\n",
        "    sliced_data = e.loc[(e.index >= start) & (e.index <= end)]\n",
        "    yearly += (sliced_data.iloc[-1]/sliced_data.iloc[0] - 1)\n",
        "    start = end\n",
        "\n",
        "avgs = [list(monthly*100/36), list(quarterly*100/12), list(half_yearly*100/6), list(yearly*100/3)]\n",
        "print(f\"Monthly Avg Returns: {avgs[0]}\")\n",
        "print(f\"Quarterly Avg Return: {avgs[1]}\")\n",
        "print(f\"Half Yearly Avg Return: {avgs[2]}\")\n",
        "print(f\"Yearly Avg Return: {avgs[3]}\")"
      ],
      "execution_count": 50,
      "outputs": [
        {
          "output_type": "stream",
          "text": [
            "Monthly Avg Returns: [0.803162962986533, 1.7694473193963947, -0.2596859755250684, 3.122047517038763, 0.7510716460082639, 5.560015315588121, -0.8853314180080418, 5.494736412621707]\n",
            "Quarterly Avg Return: [2.428652595805809, 6.574126342742551, -1.4481197947844249, 10.163704774337253, 5.590376141929499, 20.449878048433213, -2.898010603842211, 16.116678567618795]\n",
            "Half Yearly Avg Return: [3.208252537101867, 13.62137260457368, -1.828869512199238, 30.789411554110988, 12.788974024813148, 36.179830207220114, -8.200415002992969, 39.77603101749069]\n",
            "Yearly Avg Return: [6.816663818436941, 30.747467363367864, -8.510082974371683, 53.84021065479808, 61.58861990527353, 81.21287108091326, -15.416514212690146, 129.42213231444126]\n"
          ],
          "name": "stdout"
        }
      ]
    },
    {
      "cell_type": "code",
      "metadata": {
        "scrolled": true,
        "id": "0QGtkKRrIWCR",
        "colab_type": "code",
        "colab": {
          "base_uri": "https://localhost:8080/",
          "height": 420
        },
        "outputId": "7910ed57-6d4a-421f-d68e-83ab7ed6c37e"
      },
      "source": [
        "for avg in avgs:\n",
        "    random_weights = np.random.dirichlet(np.ones(8), size = 1).T\n",
        "    total_return = avg * random_weights.T\n",
        "    print(avg)\n",
        "    print(random_weights.T)\n",
        "    print(total_return)\n",
        "    print(np.sum(total_return))"
      ],
      "execution_count": 51,
      "outputs": [
        {
          "output_type": "stream",
          "text": [
            "[0.803162962986533, 1.7694473193963947, -0.2596859755250684, 3.122047517038763, 0.7510716460082639, 5.560015315588121, -0.8853314180080418, 5.494736412621707]\n",
            "[[0.03740026 0.28674708 0.18272598 0.1268413  0.05886588 0.12671493\n",
            "  0.0021348  0.17856978]]\n",
            "[[ 0.0300385   0.50738386 -0.04745137  0.39600455  0.04421249  0.70453695\n",
            "  -0.00189001  0.98119386]]\n",
            "2.6140288375305616\n",
            "[2.428652595805809, 6.574126342742551, -1.4481197947844249, 10.163704774337253, 5.590376141929499, 20.449878048433213, -2.898010603842211, 16.116678567618795]\n",
            "[[0.29508104 0.09922553 0.05615797 0.09652976 0.05645192 0.03864014\n",
            "  0.11350587 0.24440777]]\n",
            "[[ 0.71664933  0.65232115 -0.08132346  0.98109997  0.31558749  0.79018612\n",
            "  -0.32894121  3.93904152]]\n",
            "6.9846209093575755\n",
            "[3.208252537101867, 13.62137260457368, -1.828869512199238, 30.789411554110988, 12.788974024813148, 36.179830207220114, -8.200415002992969, 39.77603101749069]\n",
            "[[0.04846611 0.04146863 0.26135986 0.07957083 0.0690588  0.10007327\n",
            "  0.1935228  0.20647971]]\n",
            "[[ 0.15549151  0.5648597  -0.47799308  2.4499389   0.88319126  3.62063384\n",
            "  -1.58696725  8.21294317]]\n",
            "13.822098049162223\n",
            "[6.816663818436941, 30.747467363367864, -8.510082974371683, 53.84021065479808, 61.58861990527353, 81.21287108091326, -15.416514212690146, 129.42213231444126]\n",
            "[[0.15887655 0.02285169 0.032744   0.12826203 0.47817956 0.00998686\n",
            "  0.07940054 0.08969877]]\n",
            "[[ 1.08300805  0.70263157 -0.27865416  6.90565447 29.45041917  0.81106182\n",
            "  -1.22407949 11.6090064 ]]\n",
            "49.05904782277406\n"
          ],
          "name": "stdout"
        }
      ]
    },
    {
      "cell_type": "code",
      "metadata": {
        "id": "6WWT4tIxIWCW",
        "colab_type": "code",
        "colab": {
          "base_uri": "https://localhost:8080/",
          "height": 185
        },
        "outputId": "94640621-05df-4484-f87e-db782b3d4b57"
      },
      "source": [
        "types = ['Monthly', 'Quarterly', 'Half-Yearly', 'Yearly']\n",
        "best_wts_for_avgs = []\n",
        "annual_returns_for_avgs = []\n",
        "port_vars_for_avgs = []\n",
        "for avg in avgs:\n",
        "    min_port_var = 1.62\n",
        "    max_port_var = 1.75\n",
        "    port_vars = []\n",
        "    returns = []\n",
        "    rand_wts = []\n",
        "    for i in range(0, 10000):\n",
        "        random_weights = np.random.dirichlet(np.ones(8), size = 1).T\n",
        "        random_weighted_sd = stds * random_weights\n",
        "        portfolio_var = np.sqrt(np.sum(np.dot(random_weighted_sd.T, np.dot(corr, random_weighted_sd))))*100\n",
        "        if (portfolio_var >= min_port_var) & (portfolio_var <= max_port_var):\n",
        "            port_vars.append(portfolio_var)\n",
        "            rand_wts.append(random_weights)\n",
        "            total_return = np.sum(avg * random_weights.T)\n",
        "            returns.append(total_return)\n",
        "    max_index = returns.index(max(returns))\n",
        "    max_return = returns[max_index]\n",
        "    best_wts = rand_wts[max_index]\n",
        "    min_var = port_vars[max_index]\n",
        "\n",
        "    best_wts_for_avgs.append(best_wts)\n",
        "    port_vars_for_avgs.append(min_var)\n",
        "    annual_ret = np.sum(mean_daily_returns * best_wts)*252\n",
        "    annual_returns_for_avgs.append(annual_ret)\n",
        "\n",
        "max_index = annual_returns_for_avgs.index(max(annual_returns_for_avgs))\n",
        "maximum_return = annual_returns_for_avgs[max_index]\n",
        "bestest_wts = best_wts_for_avgs[max_index]\n",
        "miniest_var = port_vars_for_avgs[max_index]\n",
        "print(f\"Best Performance: {types[max_index]}\")\n",
        "print(f\"Best Return: {maximum_return*100}%, Minimum Portfolio Variance: {miniest_var}\")\n",
        "print(f\"Best Weights: {bestest_wts}, Sum of weights: {np.sum(bestest_wts)}\")"
      ],
      "execution_count": 53,
      "outputs": [
        {
          "output_type": "stream",
          "text": [
            "Best Performance: Half-Yearly\n",
            "Best Return: 46.050734215270076%, Minimum Portfolio Variance: 1.7489081803356825\n",
            "Best Weights: [[0.09795665]\n",
            " [0.1665286 ]\n",
            " [0.01663003]\n",
            " [0.14351808]\n",
            " [0.10522839]\n",
            " [0.34196911]\n",
            " [0.03696478]\n",
            " [0.09120436]], Sum of weights: 1.0\n"
          ],
          "name": "stdout"
        }
      ]
    },
    {
      "cell_type": "code",
      "metadata": {
        "id": "YJZwdEF6IWCZ",
        "colab_type": "code",
        "colab": {
          "base_uri": "https://localhost:8080/",
          "height": 34
        },
        "outputId": "d3e27217-8c68-4dbb-86d0-6473bfbd38bf"
      },
      "source": [
        "ordered_types = {}\n",
        "for i in range(4):\n",
        "    ordered_types[types[i]] = annual_returns_for_avgs[i]*100\n",
        "print(ordered_types)"
      ],
      "execution_count": 54,
      "outputs": [
        {
          "output_type": "stream",
          "text": [
            "{'Monthly': 45.061735277565205, 'Quarterly': 43.97870707786487, 'Half-Yearly': 46.050734215270076, 'Yearly': 44.06409383671666}\n"
          ],
          "name": "stdout"
        }
      ]
    },
    {
      "cell_type": "code",
      "metadata": {
        "id": "y1-DQ8sAR-ze",
        "colab_type": "code",
        "colab": {}
      },
      "source": [
        ""
      ],
      "execution_count": null,
      "outputs": []
    }
  ]
}